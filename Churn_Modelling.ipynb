{
 "cells": [
  {
   "cell_type": "code",
   "execution_count": 1,
   "metadata": {},
   "outputs": [],
   "source": [
    "import pandas as pd\n",
    "import numpy as np\n",
    "import scipy as sp\n",
    "import sklearn as skl"
   ]
  },
  {
   "cell_type": "code",
   "execution_count": 2,
   "metadata": {},
   "outputs": [
    {
     "name": "stdout",
     "output_type": "stream",
     "text": [
      " \u001b[0m\u001b[01;34mBank_Churn\u001b[0m/                   \u001b[01;34mCIND820-R_Git\u001b[0m/          Untitled1.ipynb\n",
      " Bank_Churn_CIND820.R          Data_Exploration.docx   Untitled2.ipynb\n",
      " churn_modelling_cleaned.csv   Data_Exploration.html  \u001b[01;34m'Untitled Folder'\u001b[0m/\n",
      " Churn_Modelling.csv           Data_Exploration.Rmd\n",
      " Churn_Modelling.ipynb         \u001b[01;34mlost+found\u001b[0m/\n"
     ]
    }
   ],
   "source": [
    "ls"
   ]
  },
  {
   "cell_type": "code",
   "execution_count": 3,
   "metadata": {},
   "outputs": [
    {
     "name": "stdout",
     "output_type": "stream",
     "text": [
      "/home/jovyan/CIND820-R_Git\n"
     ]
    }
   ],
   "source": [
    "cd CIND820-R_Git/"
   ]
  },
  {
   "cell_type": "code",
   "execution_count": 4,
   "metadata": {},
   "outputs": [
    {
     "name": "stdout",
     "output_type": "stream",
     "text": [
      "churn_modelling_cleaned.csv  Churn_Modelling.ipynb  Data_Exploration.Rmd\n",
      "Churn_Modelling.csv          COMMIT_EDITMSG.txt     README.md\n"
     ]
    }
   ],
   "source": [
    "ls"
   ]
  },
  {
   "cell_type": "code",
   "execution_count": 5,
   "metadata": {},
   "outputs": [
    {
     "data": {
      "text/plain": [
       "'/home/jovyan/CIND820-R_Git'"
      ]
     },
     "execution_count": 5,
     "metadata": {},
     "output_type": "execute_result"
    }
   ],
   "source": [
    "pwd"
   ]
  },
  {
   "cell_type": "code",
   "execution_count": 6,
   "metadata": {},
   "outputs": [],
   "source": [
    "churn_df=pd.read_csv(\"/home/jovyan/CIND820-R_Git/churn_modelling_cleaned.csv\")"
   ]
  },
  {
   "cell_type": "code",
   "execution_count": 7,
   "metadata": {},
   "outputs": [
    {
     "data": {
      "text/html": [
       "<div>\n",
       "<style scoped>\n",
       "    .dataframe tbody tr th:only-of-type {\n",
       "        vertical-align: middle;\n",
       "    }\n",
       "\n",
       "    .dataframe tbody tr th {\n",
       "        vertical-align: top;\n",
       "    }\n",
       "\n",
       "    .dataframe thead th {\n",
       "        text-align: right;\n",
       "    }\n",
       "</style>\n",
       "<table border=\"1\" class=\"dataframe\">\n",
       "  <thead>\n",
       "    <tr style=\"text-align: right;\">\n",
       "      <th></th>\n",
       "      <th>Unnamed: 0</th>\n",
       "      <th>RowNumber</th>\n",
       "      <th>CustomerId</th>\n",
       "      <th>CreditScore</th>\n",
       "      <th>Geography</th>\n",
       "      <th>Gender</th>\n",
       "      <th>Age</th>\n",
       "      <th>Tenure</th>\n",
       "      <th>Balance</th>\n",
       "      <th>NumOfProducts</th>\n",
       "      <th>HasCrCard</th>\n",
       "      <th>IsActiveMember</th>\n",
       "      <th>EstimatedSalary</th>\n",
       "      <th>Exited</th>\n",
       "    </tr>\n",
       "  </thead>\n",
       "  <tbody>\n",
       "    <tr>\n",
       "      <th>0</th>\n",
       "      <td>1</td>\n",
       "      <td>1</td>\n",
       "      <td>15634602</td>\n",
       "      <td>619</td>\n",
       "      <td>France</td>\n",
       "      <td>Female</td>\n",
       "      <td>42</td>\n",
       "      <td>2</td>\n",
       "      <td>0.00</td>\n",
       "      <td>1</td>\n",
       "      <td>1</td>\n",
       "      <td>1</td>\n",
       "      <td>101348.88</td>\n",
       "      <td>1</td>\n",
       "    </tr>\n",
       "    <tr>\n",
       "      <th>1</th>\n",
       "      <td>2</td>\n",
       "      <td>2</td>\n",
       "      <td>15647311</td>\n",
       "      <td>608</td>\n",
       "      <td>Spain</td>\n",
       "      <td>Female</td>\n",
       "      <td>41</td>\n",
       "      <td>1</td>\n",
       "      <td>83807.86</td>\n",
       "      <td>1</td>\n",
       "      <td>0</td>\n",
       "      <td>1</td>\n",
       "      <td>112542.58</td>\n",
       "      <td>0</td>\n",
       "    </tr>\n",
       "    <tr>\n",
       "      <th>2</th>\n",
       "      <td>3</td>\n",
       "      <td>3</td>\n",
       "      <td>15619304</td>\n",
       "      <td>502</td>\n",
       "      <td>France</td>\n",
       "      <td>Female</td>\n",
       "      <td>42</td>\n",
       "      <td>8</td>\n",
       "      <td>159660.80</td>\n",
       "      <td>3</td>\n",
       "      <td>1</td>\n",
       "      <td>0</td>\n",
       "      <td>113931.57</td>\n",
       "      <td>1</td>\n",
       "    </tr>\n",
       "    <tr>\n",
       "      <th>3</th>\n",
       "      <td>4</td>\n",
       "      <td>4</td>\n",
       "      <td>15701354</td>\n",
       "      <td>699</td>\n",
       "      <td>France</td>\n",
       "      <td>Female</td>\n",
       "      <td>39</td>\n",
       "      <td>1</td>\n",
       "      <td>0.00</td>\n",
       "      <td>2</td>\n",
       "      <td>0</td>\n",
       "      <td>0</td>\n",
       "      <td>93826.63</td>\n",
       "      <td>0</td>\n",
       "    </tr>\n",
       "    <tr>\n",
       "      <th>4</th>\n",
       "      <td>5</td>\n",
       "      <td>5</td>\n",
       "      <td>15737888</td>\n",
       "      <td>850</td>\n",
       "      <td>Spain</td>\n",
       "      <td>Female</td>\n",
       "      <td>43</td>\n",
       "      <td>2</td>\n",
       "      <td>125510.82</td>\n",
       "      <td>1</td>\n",
       "      <td>1</td>\n",
       "      <td>1</td>\n",
       "      <td>79084.10</td>\n",
       "      <td>0</td>\n",
       "    </tr>\n",
       "    <tr>\n",
       "      <th>...</th>\n",
       "      <td>...</td>\n",
       "      <td>...</td>\n",
       "      <td>...</td>\n",
       "      <td>...</td>\n",
       "      <td>...</td>\n",
       "      <td>...</td>\n",
       "      <td>...</td>\n",
       "      <td>...</td>\n",
       "      <td>...</td>\n",
       "      <td>...</td>\n",
       "      <td>...</td>\n",
       "      <td>...</td>\n",
       "      <td>...</td>\n",
       "      <td>...</td>\n",
       "    </tr>\n",
       "    <tr>\n",
       "      <th>9563</th>\n",
       "      <td>9996</td>\n",
       "      <td>9996</td>\n",
       "      <td>15606229</td>\n",
       "      <td>771</td>\n",
       "      <td>France</td>\n",
       "      <td>Male</td>\n",
       "      <td>39</td>\n",
       "      <td>5</td>\n",
       "      <td>0.00</td>\n",
       "      <td>2</td>\n",
       "      <td>1</td>\n",
       "      <td>0</td>\n",
       "      <td>96270.64</td>\n",
       "      <td>0</td>\n",
       "    </tr>\n",
       "    <tr>\n",
       "      <th>9564</th>\n",
       "      <td>9997</td>\n",
       "      <td>9997</td>\n",
       "      <td>15569892</td>\n",
       "      <td>516</td>\n",
       "      <td>France</td>\n",
       "      <td>Male</td>\n",
       "      <td>35</td>\n",
       "      <td>10</td>\n",
       "      <td>57369.61</td>\n",
       "      <td>1</td>\n",
       "      <td>1</td>\n",
       "      <td>1</td>\n",
       "      <td>101699.77</td>\n",
       "      <td>0</td>\n",
       "    </tr>\n",
       "    <tr>\n",
       "      <th>9565</th>\n",
       "      <td>9998</td>\n",
       "      <td>9998</td>\n",
       "      <td>15584532</td>\n",
       "      <td>709</td>\n",
       "      <td>France</td>\n",
       "      <td>Female</td>\n",
       "      <td>36</td>\n",
       "      <td>7</td>\n",
       "      <td>0.00</td>\n",
       "      <td>1</td>\n",
       "      <td>0</td>\n",
       "      <td>1</td>\n",
       "      <td>42085.58</td>\n",
       "      <td>1</td>\n",
       "    </tr>\n",
       "    <tr>\n",
       "      <th>9566</th>\n",
       "      <td>9999</td>\n",
       "      <td>9999</td>\n",
       "      <td>15682355</td>\n",
       "      <td>772</td>\n",
       "      <td>Germany</td>\n",
       "      <td>Male</td>\n",
       "      <td>42</td>\n",
       "      <td>3</td>\n",
       "      <td>75075.31</td>\n",
       "      <td>2</td>\n",
       "      <td>1</td>\n",
       "      <td>0</td>\n",
       "      <td>92888.52</td>\n",
       "      <td>1</td>\n",
       "    </tr>\n",
       "    <tr>\n",
       "      <th>9567</th>\n",
       "      <td>10000</td>\n",
       "      <td>10000</td>\n",
       "      <td>15628319</td>\n",
       "      <td>792</td>\n",
       "      <td>France</td>\n",
       "      <td>Female</td>\n",
       "      <td>28</td>\n",
       "      <td>4</td>\n",
       "      <td>130142.79</td>\n",
       "      <td>1</td>\n",
       "      <td>1</td>\n",
       "      <td>0</td>\n",
       "      <td>38190.78</td>\n",
       "      <td>0</td>\n",
       "    </tr>\n",
       "  </tbody>\n",
       "</table>\n",
       "<p>9568 rows × 14 columns</p>\n",
       "</div>"
      ],
      "text/plain": [
       "      Unnamed: 0  RowNumber  CustomerId  CreditScore Geography  Gender  Age  \\\n",
       "0              1          1    15634602          619    France  Female   42   \n",
       "1              2          2    15647311          608     Spain  Female   41   \n",
       "2              3          3    15619304          502    France  Female   42   \n",
       "3              4          4    15701354          699    France  Female   39   \n",
       "4              5          5    15737888          850     Spain  Female   43   \n",
       "...          ...        ...         ...          ...       ...     ...  ...   \n",
       "9563        9996       9996    15606229          771    France    Male   39   \n",
       "9564        9997       9997    15569892          516    France    Male   35   \n",
       "9565        9998       9998    15584532          709    France  Female   36   \n",
       "9566        9999       9999    15682355          772   Germany    Male   42   \n",
       "9567       10000      10000    15628319          792    France  Female   28   \n",
       "\n",
       "      Tenure    Balance  NumOfProducts  HasCrCard  IsActiveMember  \\\n",
       "0          2       0.00              1          1               1   \n",
       "1          1   83807.86              1          0               1   \n",
       "2          8  159660.80              3          1               0   \n",
       "3          1       0.00              2          0               0   \n",
       "4          2  125510.82              1          1               1   \n",
       "...      ...        ...            ...        ...             ...   \n",
       "9563       5       0.00              2          1               0   \n",
       "9564      10   57369.61              1          1               1   \n",
       "9565       7       0.00              1          0               1   \n",
       "9566       3   75075.31              2          1               0   \n",
       "9567       4  130142.79              1          1               0   \n",
       "\n",
       "      EstimatedSalary  Exited  \n",
       "0           101348.88       1  \n",
       "1           112542.58       0  \n",
       "2           113931.57       1  \n",
       "3            93826.63       0  \n",
       "4            79084.10       0  \n",
       "...               ...     ...  \n",
       "9563         96270.64       0  \n",
       "9564        101699.77       0  \n",
       "9565         42085.58       1  \n",
       "9566         92888.52       1  \n",
       "9567         38190.78       0  \n",
       "\n",
       "[9568 rows x 14 columns]"
      ]
     },
     "execution_count": 7,
     "metadata": {},
     "output_type": "execute_result"
    }
   ],
   "source": [
    "churn_df"
   ]
  },
  {
   "cell_type": "code",
   "execution_count": 8,
   "metadata": {},
   "outputs": [
    {
     "data": {
      "image/png": "[encoded data removed]",
      "text/plain": [
       "<Figure size 432x288 with 1 Axes>"
      ]
     },
     "metadata": {
      "needs_background": "light"
     },
     "output_type": "display_data"
    },
    {
     "data": {
      "image/png": "[encoded data removed]",
      "text/plain": [
       "<Figure size 432x288 with 1 Axes>"
      ]
     },
     "metadata": {
      "needs_background": "light"
     },
     "output_type": "display_data"
    },
    {
     "data": {
      "image/png": "[encoded data removed]",
      "text/plain": [
       "<Figure size 432x288 with 1 Axes>"
      ]
     },
     "metadata": {
      "needs_background": "light"
     },
     "output_type": "display_data"
    },
    {
     "data": {
      "image/png": "[encoded data removed]",
      "text/plain": [
       "<Figure size 432x288 with 1 Axes>"
      ]
     },
     "metadata": {
      "needs_background": "light"
     },
     "output_type": "display_data"
    },
    {
     "data": {
      "image/png": "[encoded data removed]",
      "text/plain": [
       "<Figure size 432x288 with 1 Axes>"
      ]
     },
     "metadata": {
      "needs_background": "light"
     },
     "output_type": "display_data"
    },
    {
     "data": {
      "image/png": "[encoded data removed]",
      "text/plain": [
       "<Figure size 432x288 with 1 Axes>"
      ]
     },
     "metadata": {
      "needs_background": "light"
     },
     "output_type": "display_data"
    },
    {
     "data": {
      "image/png": "[encoded data removed]",
      "text/plain": [
       "<Figure size 432x288 with 1 Axes>"
      ]
     },
     "metadata": {
      "needs_background": "light"
     },
     "output_type": "display_data"
    },
    {
     "data": {
      "image/png": "[encoded data removed]",
      "text/plain": [
       "<Figure size 432x288 with 1 Axes>"
      ]
     },
     "metadata": {
      "needs_background": "light"
     },
     "output_type": "display_data"
    },
    {
     "data": {
      "image/png": "[encoded data removed]",
      "text/plain": [
       "<Figure size 432x288 with 1 Axes>"
      ]
     },
     "metadata": {
      "needs_background": "light"
     },
     "output_type": "display_data"
    }
   ],
   "source": [
    "#plot histograms for numerical attributes\n",
    "def hist_func():\n",
    "    churn_df.hist(column=\"CreditScore\"),\n",
    "    churn_df.hist(column=\"Age\"),\n",
    "    churn_df.hist(column=\"Tenure\"),\n",
    "    churn_df.hist(column=\"Balance\"),\n",
    "    churn_df.hist(column=\"NumOfProducts\"),\n",
    "    churn_df.hist(column=\"HasCrCard\"),\n",
    "    churn_df.hist(column=\"IsActiveMember\"),\n",
    "    churn_df.hist(column=\"EstimatedSalary\"),\n",
    "    churn_df.hist(column=\"Exited\")\n",
    "    \n",
    "hist_func()"
   ]
  },
  {
   "cell_type": "code",
   "execution_count": 9,
   "metadata": {},
   "outputs": [
    {
     "name": "stdout",
     "output_type": "stream",
     "text": [
      "Requirement already up-to-date: imbalanced-learn in /opt/conda/lib/python3.7/site-packages (0.8.0)\n",
      "Requirement already satisfied, skipping upgrade: numpy>=1.13.3 in /opt/conda/lib/python3.7/site-packages (from imbalanced-learn) (1.18.4)\n",
      "Requirement already satisfied, skipping upgrade: scikit-learn>=0.24 in /opt/conda/lib/python3.7/site-packages (from imbalanced-learn) (0.24.2)\n",
      "Requirement already satisfied, skipping upgrade: joblib>=0.11 in /opt/conda/lib/python3.7/site-packages (from imbalanced-learn) (0.15.1)\n",
      "Requirement already satisfied, skipping upgrade: scipy>=0.19.1 in /opt/conda/lib/python3.7/site-packages (from imbalanced-learn) (1.4.1)\n",
      "Requirement already satisfied, skipping upgrade: threadpoolctl>=2.0.0 in /opt/conda/lib/python3.7/site-packages (from scikit-learn>=0.24->imbalanced-learn) (2.2.0)\n",
      "Note: you may need to restart the kernel to use updated packages.\n"
     ]
    }
   ],
   "source": [
    "pip install -U imbalanced-learn"
   ]
  },
  {
   "cell_type": "code",
   "execution_count": 10,
   "metadata": {},
   "outputs": [],
   "source": [
    "import imblearn\n",
    "from imblearn.over_sampling import SMOTE\n",
    "from imblearn.combine import SMOTETomek\n",
    "from imblearn.under_sampling import TomekLinks\n",
    "from collections import Counter\n",
    "from sklearn.datasets import make_classification"
   ]
  },
  {
   "cell_type": "code",
   "execution_count": 11,
   "metadata": {},
   "outputs": [
    {
     "data": {
      "text/plain": [
       "array(['France', 'Spain', 'Germany'], dtype=object)"
      ]
     },
     "execution_count": 11,
     "metadata": {},
     "output_type": "execute_result"
    }
   ],
   "source": [
    "#SMOTE cannot use object or category columns\n",
    "#confirming the unique values of both \"Geography\" and \"Gender\" columns\n",
    "churn_df['Geography'].unique()"
   ]
  },
  {
   "cell_type": "code",
   "execution_count": 12,
   "metadata": {},
   "outputs": [
    {
     "data": {
      "text/plain": [
       "array(['Female', 'Male'], dtype=object)"
      ]
     },
     "execution_count": 12,
     "metadata": {},
     "output_type": "execute_result"
    }
   ],
   "source": [
    "churn_df['Gender'].unique()"
   ]
  },
  {
   "cell_type": "code",
   "execution_count": 13,
   "metadata": {},
   "outputs": [],
   "source": [
    "#import LebelEncoder to assign labels to \"Georgraphy\" and \"Gender\" columns and create new dataframe\n",
    "from sklearn.preprocessing import LabelEncoder\n",
    "le=LabelEncoder()\n",
    "churn_df_le=churn_df\n",
    "churn_df_le['Geography']=le.fit_transform(churn_df_le['Geography'])\n",
    "churn_df_le['Gender']=le.fit_transform(churn_df_le['Gender'])"
   ]
  },
  {
   "cell_type": "code",
   "execution_count": 14,
   "metadata": {},
   "outputs": [],
   "source": [
    "#set parameters for and run SMOTE\n",
    "seed=100\n",
    "k=5\n",
    "x=churn_df_le.loc[:, churn_df.columns != 'Exited']\n",
    "y=churn_df_le.Exited\n",
    "sm=SMOTE(sampling_strategy='auto', k_neighbors=k, random_state=seed)\n",
    "x_res, y_res=sm.fit_resample(x, y)"
   ]
  },
  {
   "cell_type": "code",
   "execution_count": 15,
   "metadata": {},
   "outputs": [
    {
     "name": "stdout",
     "output_type": "stream",
     "text": [
      "       Unnamed: 0  RowNumber  CustomerId  CreditScore  Geography  Gender  Age  \\\n",
      "0               1          1    15634602          619          0       0   42   \n",
      "1               2          2    15647311          608          2       0   41   \n",
      "2               3          3    15619304          502          0       0   42   \n",
      "3               4          4    15701354          699          0       0   39   \n",
      "4               5          5    15737888          850          2       0   43   \n",
      "...           ...        ...         ...          ...        ...     ...  ...   \n",
      "15349        5463       5463    15757270          684          0       0   47   \n",
      "15350        1643       1643    15621674          641          0       0   40   \n",
      "15351        1834       1834    15621274          615          0       0   48   \n",
      "15352        7643       7643    15666995          579          1       1   60   \n",
      "15353        5799       5799    15804692          691          0       1   41   \n",
      "\n",
      "       Tenure        Balance  NumOfProducts  HasCrCard  IsActiveMember  \\\n",
      "0           2       0.000000              1          1               1   \n",
      "1           1   83807.860000              1          0               1   \n",
      "2           8  159660.800000              3          1               0   \n",
      "3           1       0.000000              2          0               0   \n",
      "4           2  125510.820000              1          1               1   \n",
      "...       ...            ...            ...        ...             ...   \n",
      "15349       7       0.000000              1          0               0   \n",
      "15350       8  118735.722668              1          1               0   \n",
      "15351       3  105631.583315              2          1               0   \n",
      "15352       6  115483.009856              1          0               0   \n",
      "15353       2  168026.290522              1          0               0   \n",
      "\n",
      "       EstimatedSalary  Exited  \n",
      "0        101348.880000       1  \n",
      "1        112542.580000       0  \n",
      "2        113931.570000       1  \n",
      "3         93826.630000       0  \n",
      "4         79084.100000       0  \n",
      "...                ...     ...  \n",
      "15349    180054.580897       1  \n",
      "15350     79692.986097       1  \n",
      "15351    114612.636324       1  \n",
      "15352    165104.265844       1  \n",
      "15353    119106.180405       1  \n",
      "\n",
      "[15354 rows x 14 columns]\n"
     ]
    }
   ],
   "source": [
    "churn_df_smote=pd.concat([pd.DataFrame(x_res), pd.DataFrame(y_res)], axis=1)\n",
    "print(churn_df_smote)"
   ]
  },
  {
   "cell_type": "code",
   "execution_count": 16,
   "metadata": {},
   "outputs": [
    {
     "name": "stdout",
     "output_type": "stream",
     "text": [
      "1891\n"
     ]
    }
   ],
   "source": [
    "#setting parameters for Random Under Sampling\n",
    "#setting variable for number of churned customers\n",
    "minority_class_length=len(churn_df[churn_df['Exited'] ==1])\n",
    "print(minority_class_length)"
   ]
  },
  {
   "cell_type": "code",
   "execution_count": 17,
   "metadata": {},
   "outputs": [
    {
     "name": "stdout",
     "output_type": "stream",
     "text": [
      "Int64Index([   1,    3,    4,    6,    7,    8,    9,   10,   11,   12,\n",
      "            ...\n",
      "            9555, 9556, 9557, 9558, 9560, 9561, 9562, 9563, 9564, 9567],\n",
      "           dtype='int64', length=7677)\n"
     ]
    }
   ],
   "source": [
    "#creating array of positions of non-churned customers\n",
    "majority_class_indices=churn_df[churn_df['Exited'] ==0].index\n",
    "print(majority_class_indices)"
   ]
  },
  {
   "cell_type": "code",
   "execution_count": 18,
   "metadata": {},
   "outputs": [
    {
     "name": "stdout",
     "output_type": "stream",
     "text": [
      "1891\n"
     ]
    }
   ],
   "source": [
    "#creating array of random positions of non-churned customers\n",
    "random_majority_indices=np.random.choice(majority_class_indices, minority_class_length, replace=False)\n",
    "print(len(random_majority_indices))"
   ]
  },
  {
   "cell_type": "code",
   "execution_count": 19,
   "metadata": {},
   "outputs": [
    {
     "name": "stdout",
     "output_type": "stream",
     "text": [
      "Int64Index([   0,    2,    5,   15,   21,   29,   34,   40,   42,   45,\n",
      "            ...\n",
      "            9515, 9524, 9528, 9530, 9543, 9549, 9550, 9559, 9565, 9566],\n",
      "           dtype='int64', length=1891)\n"
     ]
    }
   ],
   "source": [
    "#creating array of positions of churned customers\n",
    "minority_class_indices=churn_df[churn_df['Exited'] == 1].index\n",
    "print(minority_class_indices)"
   ]
  },
  {
   "cell_type": "code",
   "execution_count": 20,
   "metadata": {},
   "outputs": [
    {
     "name": "stdout",
     "output_type": "stream",
     "text": [
      "[   0    2    5 ... 5918 4783 1963]\n"
     ]
    }
   ],
   "source": [
    "#creating array of positions of both churned and non-churned customers\n",
    "under_sample_indices=np.concatenate([minority_class_indices, random_majority_indices])\n",
    "print(under_sample_indices)"
   ]
  },
  {
   "cell_type": "code",
   "execution_count": 21,
   "metadata": {},
   "outputs": [
    {
     "name": "stdout",
     "output_type": "stream",
     "text": [
      "      Unnamed: 0  RowNumber  CustomerId  CreditScore  Geography  Gender  Age  \\\n",
      "0              1          1    15634602          619          0       0   42   \n",
      "2              3          3    15619304          502          0       0   42   \n",
      "5              6          6    15574012          645          2       1   44   \n",
      "15            17         17    15737452          653          1       1   58   \n",
      "21            23         23    15699309          510          2       0   38   \n",
      "...          ...        ...         ...          ...        ...     ...  ...   \n",
      "9212        9631       9631    15801462          716          0       1   31   \n",
      "5238        5478       5478    15802390          724          0       0   34   \n",
      "5918        6184       6184    15642726          611          0       1   53   \n",
      "4783        5004       5004    15671610          740          0       1   36   \n",
      "1963        2043       2043    15635459          667          1       0   27   \n",
      "\n",
      "      Tenure    Balance  NumOfProducts  HasCrCard  IsActiveMember  \\\n",
      "0          2       0.00              1          1               1   \n",
      "2          8  159660.80              3          1               0   \n",
      "5          8  113755.78              2          1               0   \n",
      "15         1  132602.88              1          1               0   \n",
      "21         4       0.00              1          1               0   \n",
      "...      ...        ...            ...        ...             ...   \n",
      "9212       8  109578.04              2          1               1   \n",
      "5238       2       0.00              2          1               1   \n",
      "5918       3   83568.26              1          0               0   \n",
      "4783       7       0.00              1          1               1   \n",
      "1963       3  106116.50              2          1               0   \n",
      "\n",
      "      EstimatedSalary  Exited  \n",
      "0           101348.88       1  \n",
      "2           113931.57       1  \n",
      "5           149756.71       1  \n",
      "15            5097.67       1  \n",
      "21          118913.53       1  \n",
      "...               ...     ...  \n",
      "9212         51503.51       0  \n",
      "5238        118863.38       0  \n",
      "5918          1235.49       0  \n",
      "4783         13177.40       0  \n",
      "1963          3674.71       0  \n",
      "\n",
      "[3782 rows x 14 columns]\n"
     ]
    }
   ],
   "source": [
    "#creating new undersampled dataframe\n",
    "churn_df_under=churn_df.loc[under_sample_indices]\n",
    "print(churn_df_under)"
   ]
  },
  {
   "cell_type": "code",
   "execution_count": 22,
   "metadata": {},
   "outputs": [],
   "source": [
    "#setting parameters for mix of over sampling and undersampling - SMOTE-Tomek Links method\n",
    "resample2=SMOTETomek(tomek=TomekLinks(sampling_strategy='majority'))"
   ]
  },
  {
   "cell_type": "code",
   "execution_count": 23,
   "metadata": {},
   "outputs": [],
   "source": [
    "test_df=churn_df_le"
   ]
  },
  {
   "cell_type": "code",
   "execution_count": 24,
   "metadata": {},
   "outputs": [
    {
     "name": "stdout",
     "output_type": "stream",
     "text": [
      "Original dataset shape Counter({1: 900, 0: 100})\n"
     ]
    }
   ],
   "source": [
    "seed_smt=100\n",
    "x_smt=test_df.loc[:, churn_df.columns != 'Exited']\n",
    "y_smt=test_df.Exited\n",
    "x_smt, y_smt=make_classification(n_classes=2, class_sep=2,\n",
    "                                 weights=[0.1, 0.9], n_informative=3, n_redundant=1, flip_y=0,\n",
    "                                 n_features=20, n_clusters_per_class=1, n_samples=1000, random_state=seed_smt)\n",
    "print('Original dataset shape {}'.format(Counter(y_smt)))"
   ]
  },
  {
   "cell_type": "code",
   "execution_count": 25,
   "metadata": {},
   "outputs": [
    {
     "name": "stdout",
     "output_type": "stream",
     "text": [
      "Resampled dataset shape Counter({1: 900, 0: 900})\n"
     ]
    }
   ],
   "source": [
    "smt=SMOTETomek(random_state=seed_smt)\n",
    "x_smt_res,y_smt_res=smt.fit_resample(x_smt,y_smt)\n",
    "print('Resampled dataset shape {}'.format(Counter(y_smt_res)))"
   ]
  },
  {
   "cell_type": "code",
   "execution_count": 26,
   "metadata": {},
   "outputs": [],
   "source": [
    "#classification"
   ]
  },
  {
   "cell_type": "code",
   "execution_count": 27,
   "metadata": {},
   "outputs": [],
   "source": [
    "#logistic regression"
   ]
  },
  {
   "cell_type": "code",
   "execution_count": 28,
   "metadata": {},
   "outputs": [],
   "source": [
    "import matplotlib.pyplot as plt\n",
    "import seaborn as sns\n",
    "import warnings\n",
    "from pylab import rcParams\n",
    "from sklearn.linear_model import LogisticRegression\n",
    "from sklearn.metrics import accuracy_score\n",
    "from sklearn.metrics import precision_score, recall_score\n",
    "from sklearn.metrics import f1_score, roc_auc_score, roc_curve\n",
    "from sklearn.model_selection import train_test_split"
   ]
  },
  {
   "cell_type": "code",
   "execution_count": 29,
   "metadata": {},
   "outputs": [],
   "source": [
    "%matplotlib inline\n",
    "rcParams['figure.figsize']=10, 6\n",
    "warnings.filterwarnings('ignore')\n",
    "sns.set(style='darkgrid')"
   ]
  },
  {
   "cell_type": "code",
   "execution_count": 30,
   "metadata": {},
   "outputs": [],
   "source": [
    "def generate_model_report(y_actual, y_predicted):\n",
    "    print('Accuracy = ', accuracy_score(y_actual, y_predicted))\n",
    "    print('Precision = ', precision_score(y_actual, y_predicted))\n",
    "    print('Recall = ', recall_score(y_actual, y_predicted))\n",
    "    print('F1 Score = ', f1_score(y_actual, y_predicted))\n",
    "    pass"
   ]
  },
  {
   "cell_type": "code",
   "execution_count": 31,
   "metadata": {},
   "outputs": [],
   "source": [
    "def generate_auc_roc_curve(clf, x_test):\n",
    "    y_pred_proba=clf.predict_proba(x_test)[:, 1]\n",
    "    fpr, tpr, thresholds=roc_curve(y_test, y_pred_proba)\n",
    "    auc=roc_auc_score(y_test, y_pred_proba)\n",
    "    plt.plot(fpr, tpr, label='AUC ROC Curve with Area Under the curve ='+str(auc))\n",
    "    plt.legend(loc=4)\n",
    "    plt.show()\n",
    "    pass"
   ]
  },
  {
   "cell_type": "code",
   "execution_count": 32,
   "metadata": {},
   "outputs": [],
   "source": [
    "target='Exited'\n",
    "x_lr=test_df.loc[:, test_df.columns != target]\n",
    "y_lr=test_df.loc[:, test_df.columns == target]"
   ]
  },
  {
   "cell_type": "code",
   "execution_count": 33,
   "metadata": {},
   "outputs": [],
   "source": [
    "x_train, x_test, y_train, y_test=train_test_split(x_lr, y_lr,\n",
    "                                                  test_size=0.33,\n",
    "                                                  random_state=seed)"
   ]
  },
  {
   "cell_type": "code",
   "execution_count": 34,
   "metadata": {},
   "outputs": [],
   "source": [
    "clf=LogisticRegression().fit(x_train, y_train)"
   ]
  },
  {
   "cell_type": "code",
   "execution_count": 39,
   "metadata": {},
   "outputs": [
    {
     "name": "stdout",
     "output_type": "stream",
     "text": [
      "      Exited\n",
      "9080       0\n",
      "7293       0\n",
      "3010       0\n",
      "4598       0\n",
      "5698       0\n",
      "...      ...\n",
      "350        0\n",
      "79         0\n",
      "8039       0\n",
      "6936       0\n",
      "5640       0\n",
      "\n",
      "[6410 rows x 1 columns]\n"
     ]
    }
   ],
   "source": [
    "print(y_train)"
   ]
  },
  {
   "cell_type": "code",
   "execution_count": 36,
   "metadata": {},
   "outputs": [],
   "source": [
    "y_test_pred=clf.predict(x_test)"
   ]
  },
  {
   "cell_type": "code",
   "execution_count": 37,
   "metadata": {},
   "outputs": [
    {
     "name": "stdout",
     "output_type": "stream",
     "text": [
      "Accuracy =  0.7948068397720076\n",
      "Precision =  0.0\n",
      "Recall =  0.0\n",
      "F1 Score =  0.0\n"
     ]
    }
   ],
   "source": [
    "generate_model_report(y_test, y_test_pred)"
   ]
  },
  {
   "cell_type": "code",
   "execution_count": 38,
   "metadata": {},
   "outputs": [
    {
     "data": {
      "image/png": "[encoded data removed]",
      "text/plain": [
       "<Figure size 720x432 with 1 Axes>"
      ]
     },
     "metadata": {},
     "output_type": "display_data"
    }
   ],
   "source": [
    "generate_auc_roc_curve(clf, x_test)"
   ]
  }
 ],
 "metadata": {
  "kernelspec": {
   "display_name": "Python 3",
   "language": "python",
   "name": "python3"
  },
  "language_info": {
   "codemirror_mode": {
    "name": "ipython",
    "version": 3
   },
   "file_extension": ".py",
   "mimetype": "text/x-python",
   "name": "python",
   "nbconvert_exporter": "python",
   "pygments_lexer": "ipython3",
   "version": "3.7.6"
  }
 },
 "nbformat": 4,
 "nbformat_minor": 4
}
